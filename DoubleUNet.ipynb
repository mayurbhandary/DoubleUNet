{
  "nbformat": 4,
  "nbformat_minor": 0,
  "metadata": {
    "colab": {
      "name": "DeepLearningFinalProject.ipynb",
      "provenance": [],
      "mount_file_id": "1YhYl9DVanbS1APvEWqDT4Rh3-j5gKOT9",
      "authorship_tag": "ABX9TyP7pOwsfyVTy6s2pZvJmkUf",
      "include_colab_link": true
    },
    "kernelspec": {
      "name": "python3",
      "display_name": "Python 3"
    },
    "language_info": {
      "name": "python"
    }
  },
  "cells": [
    {
      "cell_type": "markdown",
      "metadata": {
        "id": "view-in-github",
        "colab_type": "text"
      },
      "source": [
        "<a href=\"https://colab.research.google.com/github/mayurbhandary/DoubleUNet/blob/main/DoubleUNet.ipynb\" target=\"_parent\"><img src=\"https://colab.research.google.com/assets/colab-badge.svg\" alt=\"Open In Colab\"/></a>"
      ]
    },
    {
      "cell_type": "code",
      "execution_count": null,
      "metadata": {
        "id": "A7n6ymqtVtaH"
      },
      "outputs": [],
      "source": [
        ""
      ]
    }
  ]
}